{
  "nbformat": 4,
  "nbformat_minor": 0,
  "metadata": {
    "colab": {
      "provenance": []
    },
    "kernelspec": {
      "name": "python3",
      "display_name": "Python 3"
    },
    "language_info": {
      "name": "python"
    }
  },
  "cells": [
    {
      "cell_type": "code",
      "execution_count": 1,
      "metadata": {
        "id": "ZXjFFCGdRZGD"
      },
      "outputs": [],
      "source": [
        "import torch\n",
        "from torch import nn\n",
        "from torch.nn import functional as F"
      ]
    },
    {
      "cell_type": "code",
      "source": [],
      "metadata": {
        "id": "Nxc3MJcbf6SI"
      },
      "execution_count": 2,
      "outputs": []
    },
    {
      "cell_type": "markdown",
      "source": [
        "## Check GPU"
      ],
      "metadata": {
        "id": "AbyCp_nsR4g0"
      }
    },
    {
      "cell_type": "code",
      "source": [
        "def cpu():\n",
        "    \"\"\"Get the CPU device.\"\"\"\n",
        "    return torch.device('cpu')\n",
        "\n",
        "def gpu(i=0):\n",
        "    \"\"\"Get a GPU device.\"\"\"\n",
        "    return torch.device(f'cuda:{i}')\n",
        "\n",
        "def num_gpus():\n",
        "    \"\"\"Get the number of available GPUs.\"\"\"\n",
        "    return torch.cuda.device_count()\n",
        "\n",
        "def try_gpu(i=0):\n",
        "    \"\"\"Return gpu(i) if exists, otherwise return cpu().\"\"\"\n",
        "    if num_gpus() >= i + 1:\n",
        "        return gpu(i)\n",
        "    return cpu()\n",
        "\n",
        "def try_all_gpus():\n",
        "    \"\"\"Return all available GPUs, or [cpu(),] if no GPU exists.\"\"\"\n",
        "    return [gpu(i) for i in range(num_gpus())]\n",
        "\n",
        "try_gpu(), try_gpu(10), try_all_gpus()"
      ],
      "metadata": {
        "colab": {
          "base_uri": "https://localhost:8080/"
        },
        "id": "GBM9KGBKRtIL",
        "outputId": "1e6dbc4b-8030-4a8b-bc44-059611ea8493"
      },
      "execution_count": 3,
      "outputs": [
        {
          "output_type": "execute_result",
          "data": {
            "text/plain": [
              "(device(type='cpu'), device(type='cpu'), [])"
            ]
          },
          "metadata": {},
          "execution_count": 3
        }
      ]
    },
    {
      "cell_type": "markdown",
      "source": [
        "## Convolution function"
      ],
      "metadata": {
        "id": "6gb51Db2TDeV"
      }
    },
    {
      "cell_type": "code",
      "source": [
        "def corr2d(X, K):\n",
        "    \"\"\"Compute 2D cross-correlation.\"\"\"\n",
        "    \"\"\" X -> 2D image\n",
        "        K -> Kernel filter \"\"\"\n",
        "\n",
        "    h, w = K.shape\n",
        "    Y = torch.zeros((X.shape[0] - h + 1, X.shape[1] - w + 1))\n",
        "    for i in range(Y.shape[0]):\n",
        "        for j in range(Y.shape[1]):\n",
        "            Y[i, j] = (X[i:i + h, j:j + w] * K).sum()\n",
        "    return Y"
      ],
      "metadata": {
        "id": "oJQRlP32SYk8"
      },
      "execution_count": 4,
      "outputs": []
    },
    {
      "cell_type": "code",
      "source": [
        "X = torch.tensor([[0.0, 1.0, 2.0], [3.0, 4.0, 5.0], [6.0, 7.0, 8.0]])\n",
        "K = torch.tensor([[0.0, 1.0], [2.0, 3.0]])\n",
        "corr2d(X, K)"
      ],
      "metadata": {
        "colab": {
          "base_uri": "https://localhost:8080/"
        },
        "id": "J_w3PJXLTnXd",
        "outputId": "ca3fda20-cbd4-4f85-b735-1f261296f472"
      },
      "execution_count": 5,
      "outputs": [
        {
          "output_type": "execute_result",
          "data": {
            "text/plain": [
              "tensor([[19., 25.],\n",
              "        [37., 43.]])"
            ]
          },
          "metadata": {},
          "execution_count": 5
        }
      ]
    },
    {
      "cell_type": "markdown",
      "source": [
        "## Convolution Layer"
      ],
      "metadata": {
        "id": "oWSXYLV9Tq1V"
      }
    },
    {
      "cell_type": "code",
      "source": [
        "class Conv2D(nn.Module):\n",
        "    def __init__(self, kernel_size):\n",
        "        super().__init__()\n",
        "        self.weight = nn.Parameter(torch.rand(kernel_size))\n",
        "        self.bias = nn.Parameter(torch.zeros(1))\n",
        "\n",
        "    def forward(self, x):\n",
        "        return F.conv2d(x, self.weight, bias=self.bias)"
      ],
      "metadata": {
        "id": "dVmFq-d-TqRW"
      },
      "execution_count": 6,
      "outputs": []
    },
    {
      "cell_type": "markdown",
      "source": [
        "## Simple Edge detection"
      ],
      "metadata": {
        "id": "U7hSrIS7V1r0"
      }
    },
    {
      "cell_type": "code",
      "source": [
        "X = torch.ones((6, 8))\n",
        "X[:, 2:6] = 0\n",
        "X"
      ],
      "metadata": {
        "colab": {
          "base_uri": "https://localhost:8080/"
        },
        "id": "RgeS4wAbVYgF",
        "outputId": "4bc8e7a4-ef87-451f-8e64-9441da2f3485"
      },
      "execution_count": 7,
      "outputs": [
        {
          "output_type": "execute_result",
          "data": {
            "text/plain": [
              "tensor([[1., 1., 0., 0., 0., 0., 1., 1.],\n",
              "        [1., 1., 0., 0., 0., 0., 1., 1.],\n",
              "        [1., 1., 0., 0., 0., 0., 1., 1.],\n",
              "        [1., 1., 0., 0., 0., 0., 1., 1.],\n",
              "        [1., 1., 0., 0., 0., 0., 1., 1.],\n",
              "        [1., 1., 0., 0., 0., 0., 1., 1.]])"
            ]
          },
          "metadata": {},
          "execution_count": 7
        }
      ]
    },
    {
      "cell_type": "code",
      "source": [
        "X.shape"
      ],
      "metadata": {
        "colab": {
          "base_uri": "https://localhost:8080/"
        },
        "id": "Tt2eB7M9eOak",
        "outputId": "b1d6607f-163e-4b91-d244-8645f6040e2b"
      },
      "execution_count": 8,
      "outputs": [
        {
          "output_type": "execute_result",
          "data": {
            "text/plain": [
              "torch.Size([6, 8])"
            ]
          },
          "metadata": {},
          "execution_count": 8
        }
      ]
    },
    {
      "cell_type": "code",
      "source": [
        "K = torch.tensor([[1.0, -1.0]])"
      ],
      "metadata": {
        "id": "VGFC1ShkV84L"
      },
      "execution_count": 9,
      "outputs": []
    },
    {
      "cell_type": "code",
      "source": [
        "K.shape"
      ],
      "metadata": {
        "colab": {
          "base_uri": "https://localhost:8080/"
        },
        "id": "0qGYmyEbeW3n",
        "outputId": "a1ce8d2f-7a57-4543-98ca-96f67c52359e"
      },
      "execution_count": 10,
      "outputs": [
        {
          "output_type": "execute_result",
          "data": {
            "text/plain": [
              "torch.Size([1, 2])"
            ]
          },
          "metadata": {},
          "execution_count": 10
        }
      ]
    },
    {
      "cell_type": "code",
      "source": [
        "Y = corr2d(X, K)\n",
        "Y"
      ],
      "metadata": {
        "colab": {
          "base_uri": "https://localhost:8080/"
        },
        "id": "HcJuE5_QV_pg",
        "outputId": "099e5a09-ee6d-4b94-fad1-e688e5c2f2a0"
      },
      "execution_count": 11,
      "outputs": [
        {
          "output_type": "execute_result",
          "data": {
            "text/plain": [
              "tensor([[ 0.,  1.,  0.,  0.,  0., -1.,  0.],\n",
              "        [ 0.,  1.,  0.,  0.,  0., -1.,  0.],\n",
              "        [ 0.,  1.,  0.,  0.,  0., -1.,  0.],\n",
              "        [ 0.,  1.,  0.,  0.,  0., -1.,  0.],\n",
              "        [ 0.,  1.,  0.,  0.,  0., -1.,  0.],\n",
              "        [ 0.,  1.,  0.,  0.,  0., -1.,  0.]])"
            ]
          },
          "metadata": {},
          "execution_count": 11
        }
      ]
    },
    {
      "cell_type": "code",
      "source": [
        "X.shape"
      ],
      "metadata": {
        "colab": {
          "base_uri": "https://localhost:8080/"
        },
        "id": "JdqCzrUpedHh",
        "outputId": "51652c8d-7a17-45ce-c365-465e746162fa"
      },
      "execution_count": 12,
      "outputs": [
        {
          "output_type": "execute_result",
          "data": {
            "text/plain": [
              "torch.Size([6, 8])"
            ]
          },
          "metadata": {},
          "execution_count": 12
        }
      ]
    },
    {
      "cell_type": "markdown",
      "source": [
        "We can now apply the kernel to the transposed image. As expected, it vanishes."
      ],
      "metadata": {
        "id": "r9gI2yqjWbI8"
      }
    },
    {
      "cell_type": "code",
      "source": [
        "X.t()"
      ],
      "metadata": {
        "colab": {
          "base_uri": "https://localhost:8080/"
        },
        "id": "CZ4q1ofUdfnX",
        "outputId": "ae687fc5-d54f-4730-d85d-bb181ccebca1"
      },
      "execution_count": 13,
      "outputs": [
        {
          "output_type": "execute_result",
          "data": {
            "text/plain": [
              "tensor([[1., 1., 1., 1., 1., 1.],\n",
              "        [1., 1., 1., 1., 1., 1.],\n",
              "        [0., 0., 0., 0., 0., 0.],\n",
              "        [0., 0., 0., 0., 0., 0.],\n",
              "        [0., 0., 0., 0., 0., 0.],\n",
              "        [0., 0., 0., 0., 0., 0.],\n",
              "        [1., 1., 1., 1., 1., 1.],\n",
              "        [1., 1., 1., 1., 1., 1.]])"
            ]
          },
          "metadata": {},
          "execution_count": 13
        }
      ]
    },
    {
      "cell_type": "code",
      "source": [
        "corr2d(X.t(), K)"
      ],
      "metadata": {
        "colab": {
          "base_uri": "https://localhost:8080/"
        },
        "id": "e-UEZzmYWhaJ",
        "outputId": "9ec269e8-6a71-490b-9667-df696fe3ea34"
      },
      "execution_count": 14,
      "outputs": [
        {
          "output_type": "execute_result",
          "data": {
            "text/plain": [
              "tensor([[0., 0., 0., 0., 0.],\n",
              "        [0., 0., 0., 0., 0.],\n",
              "        [0., 0., 0., 0., 0.],\n",
              "        [0., 0., 0., 0., 0.],\n",
              "        [0., 0., 0., 0., 0.],\n",
              "        [0., 0., 0., 0., 0.],\n",
              "        [0., 0., 0., 0., 0.],\n",
              "        [0., 0., 0., 0., 0.]])"
            ]
          },
          "metadata": {},
          "execution_count": 14
        }
      ]
    },
    {
      "cell_type": "markdown",
      "source": [
        "## Learning a Kernel"
      ],
      "metadata": {
        "id": "KTy9hLAxWmXM"
      }
    },
    {
      "cell_type": "code",
      "source": [
        "# Construct a two-dimensional convolutional layer with 1 output channel and a\n",
        "# kernel of shape (1, 2). For the sake of simplicity, we ignore the bias here\n",
        "conv2d = nn.LazyConv2d(1, kernel_size=(1, 2), bias=False)\n",
        "\n",
        "# The two-dimensional convolutional layer uses four-dimensional input and\n",
        "# output in the format of (example, channel, height, width), where the batch\n",
        "# size (number of examples in the batch) and the number of channels are both 1\n",
        "X1 = X.reshape((1, 1, 6, 8))\n",
        "Y1 = Y.reshape((1, 1, 6, 7))\n",
        "lr = 3e-2  # Learning rate"
      ],
      "metadata": {
        "id": "D_cCrBTBWlQK"
      },
      "execution_count": 15,
      "outputs": []
    },
    {
      "cell_type": "code",
      "source": [
        "for i in range(20):\n",
        "    Y_hat = conv2d(X1)\n",
        "    l = (Y_hat - Y1) ** 2\n",
        "    conv2d.zero_grad()\n",
        "    l.sum().backward()\n",
        "    # Update the kernel (Gradient Descend update)\n",
        "    conv2d.weight.data[:] -= lr * conv2d.weight.grad\n",
        "    if (i + 1) % 2 == 0:\n",
        "        print(f'epoch {i + 1}, loss {l.sum():.3f}')"
      ],
      "metadata": {
        "colab": {
          "base_uri": "https://localhost:8080/"
        },
        "id": "inOguaUHW2Nz",
        "outputId": "80ed14ae-19a1-400d-fe2c-269356706897"
      },
      "execution_count": 16,
      "outputs": [
        {
          "output_type": "stream",
          "name": "stdout",
          "text": [
            "epoch 2, loss 11.133\n",
            "epoch 4, loss 3.659\n",
            "epoch 6, loss 1.347\n",
            "epoch 8, loss 0.527\n",
            "epoch 10, loss 0.211\n",
            "epoch 12, loss 0.086\n",
            "epoch 14, loss 0.035\n",
            "epoch 16, loss 0.014\n",
            "epoch 18, loss 0.006\n",
            "epoch 20, loss 0.002\n"
          ]
        }
      ]
    },
    {
      "cell_type": "code",
      "source": [
        "conv2d.weight.data.reshape((1, 2))"
      ],
      "metadata": {
        "colab": {
          "base_uri": "https://localhost:8080/"
        },
        "id": "P5ViBrOuYvJp",
        "outputId": "8d5340da-c8a3-4fd0-d467-7da8acf940ac"
      },
      "execution_count": 17,
      "outputs": [
        {
          "output_type": "execute_result",
          "data": {
            "text/plain": [
              "tensor([[ 1.0049, -0.9948]])"
            ]
          },
          "metadata": {},
          "execution_count": 17
        }
      ]
    },
    {
      "cell_type": "code",
      "source": [
        "# X.shape"
      ],
      "metadata": {
        "id": "VrJ4VdWrgBp9"
      },
      "execution_count": 18,
      "outputs": []
    },
    {
      "cell_type": "code",
      "source": [
        "# For Diagonal tensor construction\n",
        "X2 = torchvision.transforms.functional.rotate(X1,45)\n",
        "X2"
      ],
      "metadata": {
        "colab": {
          "base_uri": "https://localhost:8080/"
        },
        "id": "tCVt6Epmfudh",
        "outputId": "fa0611ea-ba3d-406b-8577-b4c43fceb97d"
      },
      "execution_count": 19,
      "outputs": [
        {
          "output_type": "execute_result",
          "data": {
            "text/plain": [
              "tensor([[[[0., 0., 0., 0., 1., 1., 1., 0.],\n",
              "          [0., 0., 0., 0., 0., 1., 1., 1.],\n",
              "          [1., 0., 0., 0., 0., 0., 1., 1.],\n",
              "          [1., 1., 0., 0., 0., 0., 0., 1.],\n",
              "          [1., 1., 1., 0., 0., 0., 0., 0.],\n",
              "          [0., 1., 1., 1., 0., 0., 0., 0.]]]])"
            ]
          },
          "metadata": {},
          "execution_count": 19
        }
      ]
    },
    {
      "cell_type": "markdown",
      "source": [
        "## Exercises\n",
        "\n",
        "1. Construct an image `X` with diagonal edges.\n",
        "    1. What happens if you apply the kernel `K` in this section to it? [2 Marks]\n",
        "    1. What happens if you transpose `X`? [1 Marks]\n",
        "    1. What happens if you transpose `K`? [1 Marks]\n",
        "1. Design some kernels manually.\n",
        "    1. Given a directional vector $\\mathbf{v} = (v_1, v_2)$, derive an edge-detection kernel that detects\n",
        "       edges orthogonal to $\\mathbf{v}$, i.e., edges in the direction $(v_2, -v_1)$. [1 Marks]\n",
        "    1. Derive a finite difference operator for the second derivative. What is the minimum\n",
        "       size of the convolutional kernel associated with it? Which structures in images respond most strongly to it? [1 Marks]\n",
        "    1. How would you design a blur kernel? Why might you want to use such a kernel? [1 Marks]\n",
        "    1. What is the minimum size of a kernel to obtain a derivative of order $d$? [1 Marks]\n",
        "1. Create Covolution Layer to handle blur kernel. Apply it on designed input and output. [2 Marks]"
      ],
      "metadata": {
        "id": "ePfzOgbfY_4K"
      }
    },
    {
      "cell_type": "markdown",
      "source": [
        "## Ans **1.1**"
      ],
      "metadata": {
        "id": "4H5nNm3Xu24d"
      }
    },
    {
      "cell_type": "code",
      "source": [
        "import matplotlib.pyplot as plt\n",
        "import torchvision\n",
        "K = torch.tensor([[0.0, 1.0],\n",
        "                  [2.0, 3.0]])\n",
        "\n",
        "X = torch.zeros((6, 8))\n",
        "\n",
        "for i in range(min(X.shape[0], X.shape[1])):\n",
        "    X[i, i] = 1\n",
        "\n",
        "\n",
        "plt.imshow(X, cmap='gray')\n",
        "plt.title('Original Image with Diagonal Edges')\n",
        "plt.show()\n",
        "\n",
        "\n",
        "def corr2d(X, K):\n",
        "    \"\"\"Compute 2D cross-correlation.\"\"\"\n",
        "    h, w = K.shape\n",
        "    Y = torch.zeros((X.shape[0] - h + 1, X.shape[1] - w + 1))\n",
        "    for i in range(Y.shape[0]):\n",
        "        for j in range(Y.shape[1]):\n",
        "            Y[i, j] = (X[i:i + h, j:j + w] * K).sum()\n",
        "    return Y\n",
        "\n",
        "Y = corr2d(X, K)\n",
        "\n",
        "plt.imshow(Y.detach().numpy(), cmap='gray')\n",
        "plt.title('Result after Applying Kernel')\n",
        "plt.show()\n",
        "\n",
        "Y\n"
      ],
      "metadata": {
        "colab": {
          "base_uri": "https://localhost:8080/",
          "height": 959
        },
        "id": "-PGzruOuqv6R",
        "outputId": "a033fa6f-4a00-4736-e056-e3182981214f"
      },
      "execution_count": 20,
      "outputs": [
        {
          "output_type": "display_data",
          "data": {
            "text/plain": [
              "<Figure size 640x480 with 1 Axes>"
            ],
            "image/png": "[encoded data removed]"
          },
          "metadata": {}
        },
        {
          "output_type": "display_data",
          "data": {
            "text/plain": [
              "<Figure size 640x480 with 1 Axes>"
            ],
            "image/png": "[encoded data removed]"
          },
          "metadata": {}
        },
        {
          "output_type": "execute_result",
          "data": {
            "text/plain": [
              "tensor([[3., 2., 0., 0., 0., 0., 0.],\n",
              "        [1., 3., 2., 0., 0., 0., 0.],\n",
              "        [0., 1., 3., 2., 0., 0., 0.],\n",
              "        [0., 0., 1., 3., 2., 0., 0.],\n",
              "        [0., 0., 0., 1., 3., 2., 0.]])"
            ]
          },
          "metadata": {},
          "execution_count": 20
        }
      ]
    },
    {
      "cell_type": "markdown",
      "source": [
        "## Ans **1.2**"
      ],
      "metadata": {
        "id": "6Wsi01W2u9cG"
      }
    },
    {
      "cell_type": "code",
      "source": [
        "X_transposed = X.t()\n",
        "\n",
        "plt.imshow(X_transposed, cmap='gray')\n",
        "plt.title('Transposed Image')\n",
        "plt.show()\n",
        "\n",
        "Y_transposed = corr2d(X_transposed, K)\n",
        "\n",
        "plt.imshow(Y_transposed.detach().numpy(), cmap='gray')\n",
        "plt.title('Result after Applying Kernel to Transposed Image')\n",
        "plt.show()\n",
        "\n",
        "Y_transposed\n"
      ],
      "metadata": {
        "colab": {
          "base_uri": "https://localhost:8080/",
          "height": 1000
        },
        "id": "3fS7LvZFq7MR",
        "outputId": "c910e493-2378-4653-831a-db8d073e9710"
      },
      "execution_count": 21,
      "outputs": [
        {
          "output_type": "display_data",
          "data": {
            "text/plain": [
              "<Figure size 640x480 with 1 Axes>"
            ],
            "image/png": "[encoded data removed]"
          },
          "metadata": {}
        },
        {
          "output_type": "display_data",
          "data": {
            "text/plain": [
              "<Figure size 640x480 with 1 Axes>"
            ],
            "image/png": "[encoded data removed]"
          },
          "metadata": {}
        },
        {
          "output_type": "execute_result",
          "data": {
            "text/plain": [
              "tensor([[3., 2., 0., 0., 0.],\n",
              "        [1., 3., 2., 0., 0.],\n",
              "        [0., 1., 3., 2., 0.],\n",
              "        [0., 0., 1., 3., 2.],\n",
              "        [0., 0., 0., 1., 3.],\n",
              "        [0., 0., 0., 0., 1.],\n",
              "        [0., 0., 0., 0., 0.]])"
            ]
          },
          "metadata": {},
          "execution_count": 21
        }
      ]
    },
    {
      "cell_type": "markdown",
      "source": [
        "## Ans **1.3**"
      ],
      "metadata": {
        "id": "D6pIhiYVvHjJ"
      }
    },
    {
      "cell_type": "code",
      "source": [
        "K_transposed = K.t()\n",
        "\n",
        "print(\"Original Kernel:\\n\", K)\n",
        "print(\"Transposed Kernel:\\n\", K_transposed)\n",
        "\n",
        "Y_transposed_kernel = corr2d(X, K_transposed)\n",
        "\n",
        "plt.imshow(Y_transposed_kernel.detach().numpy(), cmap='gray')\n",
        "plt.title('Result after Applying Transposed Kernel')\n",
        "plt.show()\n",
        "\n",
        "Y_transposed_kernel\n"
      ],
      "metadata": {
        "colab": {
          "base_uri": "https://localhost:8080/",
          "height": 628
        },
        "id": "8CESgNW4rU3M",
        "outputId": "e154873b-966e-45da-dbf6-808f280d035e"
      },
      "execution_count": 22,
      "outputs": [
        {
          "output_type": "stream",
          "name": "stdout",
          "text": [
            "Original Kernel:\n",
            " tensor([[0., 1.],\n",
            "        [2., 3.]])\n",
            "Transposed Kernel:\n",
            " tensor([[0., 2.],\n",
            "        [1., 3.]])\n"
          ]
        },
        {
          "output_type": "display_data",
          "data": {
            "text/plain": [
              "<Figure size 640x480 with 1 Axes>"
            ],
            "image/png": "[encoded data removed]"
          },
          "metadata": {}
        },
        {
          "output_type": "execute_result",
          "data": {
            "text/plain": [
              "tensor([[3., 1., 0., 0., 0., 0., 0.],\n",
              "        [2., 3., 1., 0., 0., 0., 0.],\n",
              "        [0., 2., 3., 1., 0., 0., 0.],\n",
              "        [0., 0., 2., 3., 1., 0., 0.],\n",
              "        [0., 0., 0., 2., 3., 1., 0.]])"
            ]
          },
          "metadata": {},
          "execution_count": 22
        }
      ]
    },
    {
      "cell_type": "markdown",
      "source": [
        "# **Ans 2**"
      ],
      "metadata": {
        "id": "Dj6lE4Bl4met"
      }
    },
    {
      "cell_type": "code",
      "source": [
        "#The edge-detection kernel for detecting edges orthogonal to the vector v=(v1,v2)\n",
        "v=(1,2)\n",
        "v1=v[0]\n",
        "v2=v[1]\n",
        "orth_edge_kernel = torch.tensor([[0, v1, 0],[-v2, 0, v2],[0, -v1, 0]])"
      ],
      "metadata": {
        "id": "i7iQXPrD0fKM"
      },
      "execution_count": 33,
      "outputs": []
    },
    {
      "cell_type": "code",
      "source": [
        "#  implemention of the second derivative operator as a convolution\n",
        "second_derivative_operator_conv2d=torch.tensor([[0, 1, 0],[1, -4, 1],[0, 1, 0]])\n"
      ],
      "metadata": {
        "id": "ZG7r5Tfz1mR5"
      },
      "execution_count": null,
      "outputs": []
    },
    {
      "cell_type": "markdown",
      "source": [
        "The minimum size of the operator is 3*3 since that is the minimum for a laplacian operator\n",
        "It can strongly detect:\n",
        "1.   Edges\n",
        "2.   Corners and Junctions"
      ],
      "metadata": {
        "id": "dm87XHhF2kSO"
      }
    },
    {
      "cell_type": "code",
      "source": [
        "#Designing a blur filter\n",
        "blur_ker=torch.tensor([[1/9, 1/9, 1/9],\n",
        "                      [1/9, 1/9, 1/9],\n",
        "                      [1/9, 1/9, 1/9]])\n",
        "gaussian_blur_ker=torch.tensor([[1, 2, 1],[2, 4, 2],[1, 2, 1]])"
      ],
      "metadata": {
        "id": "sfgNgUrI1mOU"
      },
      "execution_count": null,
      "outputs": []
    },
    {
      "cell_type": "markdown",
      "source": [
        "Blur filters maybe used for\n",
        "1.   Noise Reduction\n",
        "2.   Image smoothing\n",
        "\n",
        "\n"
      ],
      "metadata": {
        "id": "9v-mwjzt3hIq"
      }
    },
    {
      "cell_type": "code",
      "source": [
        "d1_filter=torch.tensor([[-1,1]])\n",
        "d2_filter=torch.tensor([[0,1,0],[1,-4,1],[0,1,0]])\n",
        "d3_filter=torch.tensor([[1,3,-3,1]])"
      ],
      "metadata": {
        "id": "kSTiESoU3x5_"
      },
      "execution_count": 35,
      "outputs": []
    },
    {
      "cell_type": "markdown",
      "source": [
        "## Ans **3**"
      ],
      "metadata": {
        "id": "UQKZmUgNvNtL"
      }
    },
    {
      "cell_type": "code",
      "source": [
        "import torch.nn.functional as F\n",
        "\n",
        "class BlurConv2d(nn.Module):\n",
        "    def __init__(self):\n",
        "        super(BlurConv2d, self).__init__()\n",
        "        self.conv = nn.Conv2d(1, 1, kernel_size=3, padding=1, bias=False)\n",
        "\n",
        "        blur_ker = torch.tensor([[1/9, 1/9, 1/9],\n",
        "                                    [1/9, 1/9, 1/9],\n",
        "                                    [1/9, 1/9, 1/9]])\n",
        "\n",
        "\n",
        "        self.conv.weight.data = blur_ker.unsqueeze(0).unsqueeze(0)\n",
        "\n",
        "    def forward(self, x):\n",
        "        return self.conv(x)\n",
        "\n",
        "blur_conv_layer = BlurConv2d()\n",
        "\n",
        "print(\"Blur Kernel:\")\n",
        "print(blur_conv_layer.conv.weight.data)\n"
      ],
      "metadata": {
        "colab": {
          "base_uri": "https://localhost:8080/"
        },
        "id": "WyGzncgErUz8",
        "outputId": "e8a2549d-61e0-4f16-dde9-364051cb5894"
      },
      "execution_count": 30,
      "outputs": [
        {
          "output_type": "stream",
          "name": "stdout",
          "text": [
            "Blur Kernel:\n",
            "tensor([[[[0.1111, 0.1111, 0.1111],\n",
            "          [0.1111, 0.1111, 0.1111],\n",
            "          [0.1111, 0.1111, 0.1111]]]])\n"
          ]
        }
      ]
    },
    {
      "cell_type": "code",
      "source": [
        "input_image = torch.tensor([[[[0, 0, 0, 0, 0, 0],\n",
        "                              [0, 1, 1, 1, 1, 0],\n",
        "                              [0, 1, 0, 0, 1, 0],\n",
        "                              [0, 1, 0, 0, 1, 0],\n",
        "                              [0, 1, 1, 1, 1, 0],\n",
        "                              [0, 0, 0, 0, 0, 0]]]], dtype=torch.float32)\n",
        "\n",
        "print(\"Input Image:\")\n",
        "print(input_image)\n"
      ],
      "metadata": {
        "colab": {
          "base_uri": "https://localhost:8080/"
        },
        "id": "X7ngClpsrUxB",
        "outputId": "b3430fdd-a00c-4d5b-a3f8-eacfd63ab951"
      },
      "execution_count": 28,
      "outputs": [
        {
          "output_type": "stream",
          "name": "stdout",
          "text": [
            "Input Image:\n",
            "tensor([[[[0., 0., 0., 0., 0., 0.],\n",
            "          [0., 1., 1., 1., 1., 0.],\n",
            "          [0., 1., 0., 0., 1., 0.],\n",
            "          [0., 1., 0., 0., 1., 0.],\n",
            "          [0., 1., 1., 1., 1., 0.],\n",
            "          [0., 0., 0., 0., 0., 0.]]]])\n"
          ]
        }
      ]
    },
    {
      "cell_type": "code",
      "source": [
        "blurred_image = blur_conv_layer(input_image)\n",
        "\n",
        "print(\"Blurred Image:\")\n",
        "print(blurred_image)\n"
      ],
      "metadata": {
        "colab": {
          "base_uri": "https://localhost:8080/"
        },
        "id": "1EIxyCm5rUuI",
        "outputId": "11b08e79-8e66-4734-9eb4-7eb478c24d81"
      },
      "execution_count": 29,
      "outputs": [
        {
          "output_type": "stream",
          "name": "stdout",
          "text": [
            "Blurred Image:\n",
            "tensor([[[[0.1111, 0.2222, 0.3333, 0.3333, 0.2222, 0.1111],\n",
            "          [0.2222, 0.3333, 0.4444, 0.4444, 0.3333, 0.2222],\n",
            "          [0.3333, 0.4444, 0.5556, 0.5556, 0.4444, 0.3333],\n",
            "          [0.3333, 0.4444, 0.5556, 0.5556, 0.4444, 0.3333],\n",
            "          [0.2222, 0.3333, 0.4444, 0.4444, 0.3333, 0.2222],\n",
            "          [0.1111, 0.2222, 0.3333, 0.3333, 0.2222, 0.1111]]]],\n",
            "       grad_fn=<ConvolutionBackward0>)\n"
          ]
        }
      ]
    },
    {
      "cell_type": "markdown",
      "source": [
        "\n",
        "\n"
      ],
      "metadata": {
        "id": "T2-OMkqWvcTB"
      }
    },
    {
      "cell_type": "code",
      "source": [],
      "metadata": {
        "id": "JuL8CPe3rUry"
      },
      "execution_count": null,
      "outputs": []
    },
    {
      "cell_type": "code",
      "source": [],
      "metadata": {
        "id": "sqAF9tM5rUpD"
      },
      "execution_count": null,
      "outputs": []
    },
    {
      "cell_type": "code",
      "source": [],
      "metadata": {
        "id": "QT40FZcErUmk"
      },
      "execution_count": null,
      "outputs": []
    },
    {
      "cell_type": "code",
      "source": [],
      "metadata": {
        "id": "vS7k2CBIrUkP"
      },
      "execution_count": null,
      "outputs": []
    },
    {
      "cell_type": "code",
      "source": [],
      "metadata": {
        "id": "hXlfJB3BrUh9"
      },
      "execution_count": null,
      "outputs": []
    }
  ]
}